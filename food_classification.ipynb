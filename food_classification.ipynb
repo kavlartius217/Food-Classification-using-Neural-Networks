{
  "nbformat": 4,
  "nbformat_minor": 0,
  "metadata": {
    "colab": {
      "provenance": []
    },
    "kernelspec": {
      "name": "python3",
      "display_name": "Python 3"
    },
    "language_info": {
      "name": "python"
    }
  },
  "cells": [
    {
      "cell_type": "code",
      "execution_count": null,
      "metadata": {
        "colab": {
          "base_uri": "https://localhost:8080/"
        },
        "id": "sY1HxFmyd9mb",
        "outputId": "fcd3f182-ba77-4fe1-ceb8-ffd14a2af92e"
      },
      "outputs": [
        {
          "output_type": "stream",
          "name": "stdout",
          "text": [
            "Mounted at /content/drive\n"
          ]
        }
      ],
      "source": [
        "from google.colab import drive\n",
        "drive.mount('/content/drive')"
      ]
    },
    {
      "cell_type": "code",
      "source": [
        "import numpy as np\n",
        "import tensorflow as tf\n",
        "from keras.preprocessing.image import ImageDataGenerator\n",
        "import matplotlib.pyplot as plt"
      ],
      "metadata": {
        "id": "VSwaHvVcfsM3"
      },
      "execution_count": null,
      "outputs": []
    },
    {
      "cell_type": "code",
      "source": [
        "training_set = tf.keras.utils.image_dataset_from_directory(\n",
        "    '/content/drive/MyDrive/train',\n",
        "    labels=\"inferred\",\n",
        "    label_mode=\"categorical\",\n",
        "    class_names=None,\n",
        "    color_mode=\"rgb\",\n",
        "    batch_size=32,\n",
        "    image_size=(64, 64),\n",
        "    shuffle=True,\n",
        "    seed=None,\n",
        "    validation_split=None,\n",
        "    subset=None,\n",
        "    interpolation=\"bilinear\",\n",
        "    follow_links=False,\n",
        "    crop_to_aspect_ratio=False,\n",
        ")"
      ],
      "metadata": {
        "colab": {
          "base_uri": "https://localhost:8080/"
        },
        "id": "NDeMEJPegQLo",
        "outputId": "7a6b0cfa-53e2-43a3-a5ee-42cbf79cd73a"
      },
      "execution_count": null,
      "outputs": [
        {
          "output_type": "stream",
          "name": "stdout",
          "text": [
            "Found 3115 files belonging to 36 classes.\n"
          ]
        }
      ]
    },
    {
      "cell_type": "code",
      "source": [
        "validation_set = tf.keras.utils.image_dataset_from_directory(\n",
        "    '/content/drive/MyDrive/validation',\n",
        "    labels=\"inferred\",\n",
        "    label_mode=\"categorical\",\n",
        "    class_names=None,\n",
        "    color_mode=\"rgb\",\n",
        "    batch_size=32,\n",
        "    image_size=(64, 64),\n",
        "    shuffle=True,\n",
        "    seed=None,\n",
        "    validation_split=None,\n",
        "    subset=None,\n",
        "    interpolation=\"bilinear\",\n",
        "    follow_links=False,\n",
        "    crop_to_aspect_ratio=False,\n",
        ")"
      ],
      "metadata": {
        "colab": {
          "base_uri": "https://localhost:8080/"
        },
        "id": "vC7Xa6pjitlb",
        "outputId": "8ab450b1-3856-40d8-e68d-ca482715e2e0"
      },
      "execution_count": null,
      "outputs": [
        {
          "output_type": "stream",
          "name": "stdout",
          "text": [
            "Found 351 files belonging to 36 classes.\n"
          ]
        }
      ]
    },
    {
      "cell_type": "code",
      "source": [
        "cnn= tf.keras.models.Sequential()"
      ],
      "metadata": {
        "id": "bfVoAFuUi39C"
      },
      "execution_count": null,
      "outputs": []
    },
    {
      "cell_type": "code",
      "source": [
        "cnn.add(tf.keras.layers.Conv2D(filters= 64, kernel_size=3, activation= 'relu', input_shape= [64,64,3] ))\n",
        "cnn.add(tf.keras.layers.MaxPooling2D(pool_size=2, strides=2,))"
      ],
      "metadata": {
        "id": "8SaYUm1Hjy63"
      },
      "execution_count": null,
      "outputs": []
    },
    {
      "cell_type": "code",
      "source": [
        "cnn.add(tf.keras.layers.Conv2D(filters= 64, kernel_size=3, activation= 'relu'))\n",
        "cnn.add(tf.keras.layers.MaxPooling2D(pool_size=2, strides=2,))"
      ],
      "metadata": {
        "id": "mcCOb_GilDhY"
      },
      "execution_count": null,
      "outputs": []
    },
    {
      "cell_type": "code",
      "source": [
        "cnn.add(tf.keras.layers.Dropout(0.5))"
      ],
      "metadata": {
        "id": "nTLruj40lQV6"
      },
      "execution_count": null,
      "outputs": []
    },
    {
      "cell_type": "code",
      "source": [
        "cnn.add(tf.keras.layers.Flatten())"
      ],
      "metadata": {
        "id": "nyFS6VkRlolS"
      },
      "execution_count": null,
      "outputs": []
    },
    {
      "cell_type": "code",
      "source": [
        "cnn.add(tf.keras.layers.Dense(units= 128,activation='relu' ))"
      ],
      "metadata": {
        "id": "9fIaJY9HlzhS"
      },
      "execution_count": null,
      "outputs": []
    },
    {
      "cell_type": "code",
      "source": [
        "cnn.add(tf.keras.layers.Dense(units= 36, activation= 'softmax'))"
      ],
      "metadata": {
        "id": "i9MMS6ETmJrh"
      },
      "execution_count": null,
      "outputs": []
    },
    {
      "cell_type": "code",
      "source": [
        "cnn.compile(optimizer= 'rmsprop', loss= 'categorical_crossentropy', metrics= ['accuracy'])"
      ],
      "metadata": {
        "id": "ORJM2kA2mX6T"
      },
      "execution_count": null,
      "outputs": []
    },
    {
      "cell_type": "code",
      "source": [
        "cnn.summary()"
      ],
      "metadata": {
        "colab": {
          "base_uri": "https://localhost:8080/"
        },
        "id": "1p889_BWmvY-",
        "outputId": "3d444065-1507-4771-ee4b-a3b1977ab7e0"
      },
      "execution_count": null,
      "outputs": [
        {
          "output_type": "stream",
          "name": "stdout",
          "text": [
            "Model: \"sequential_1\"\n",
            "_________________________________________________________________\n",
            " Layer (type)                Output Shape              Param #   \n",
            "=================================================================\n",
            " conv2d_5 (Conv2D)           (None, 62, 62, 64)        1792      \n",
            "                                                                 \n",
            " max_pooling2d_1 (MaxPoolin  (None, 31, 31, 64)        0         \n",
            " g2D)                                                            \n",
            "                                                                 \n",
            " conv2d_6 (Conv2D)           (None, 29, 29, 64)        36928     \n",
            "                                                                 \n",
            " max_pooling2d_2 (MaxPoolin  (None, 14, 14, 64)        0         \n",
            " g2D)                                                            \n",
            "                                                                 \n",
            " dropout_1 (Dropout)         (None, 14, 14, 64)        0         \n",
            "                                                                 \n",
            " flatten_1 (Flatten)         (None, 12544)             0         \n",
            "                                                                 \n",
            " dense (Dense)               (None, 128)               1605760   \n",
            "                                                                 \n",
            " dense_1 (Dense)             (None, 36)                4644      \n",
            "                                                                 \n",
            "=================================================================\n",
            "Total params: 1649124 (6.29 MB)\n",
            "Trainable params: 1649124 (6.29 MB)\n",
            "Non-trainable params: 0 (0.00 Byte)\n",
            "_________________________________________________________________\n"
          ]
        }
      ]
    },
    {
      "cell_type": "code",
      "source": [
        "cnn.fit(x= training_set, validation_data= validation_set, epochs= 40)"
      ],
      "metadata": {
        "colab": {
          "base_uri": "https://localhost:8080/"
        },
        "id": "kz3nKp0On8Wh",
        "outputId": "5551bd8d-21e3-4066-f4f0-727f5099e1cd"
      },
      "execution_count": null,
      "outputs": [
        {
          "output_type": "stream",
          "name": "stdout",
          "text": [
            "Epoch 1/40\n",
            "98/98 [==============================] - 595s 6s/step - loss: 10.4643 - accuracy: 0.0289 - val_loss: 3.5151 - val_accuracy: 0.0712\n",
            "Epoch 2/40\n",
            "98/98 [==============================] - 72s 681ms/step - loss: 4.8975 - accuracy: 0.0478 - val_loss: 3.3079 - val_accuracy: 0.1197\n",
            "Epoch 3/40\n",
            "98/98 [==============================] - 76s 736ms/step - loss: 3.7018 - accuracy: 0.0783 - val_loss: 3.2128 - val_accuracy: 0.1652\n",
            "Epoch 4/40\n",
            "98/98 [==============================] - 73s 694ms/step - loss: 3.7399 - accuracy: 0.0950 - val_loss: 3.0021 - val_accuracy: 0.2393\n",
            "Epoch 5/40\n",
            "98/98 [==============================] - 72s 689ms/step - loss: 3.4989 - accuracy: 0.1515 - val_loss: 3.2403 - val_accuracy: 0.2165\n",
            "Epoch 6/40\n",
            "98/98 [==============================] - 72s 700ms/step - loss: 3.4666 - accuracy: 0.2106 - val_loss: 2.5589 - val_accuracy: 0.3875\n",
            "Epoch 7/40\n",
            "98/98 [==============================] - 75s 726ms/step - loss: 3.0967 - accuracy: 0.2520 - val_loss: 2.5550 - val_accuracy: 0.4330\n",
            "Epoch 8/40\n",
            "98/98 [==============================] - 74s 705ms/step - loss: 3.5369 - accuracy: 0.2912 - val_loss: 1.8939 - val_accuracy: 0.5328\n",
            "Epoch 9/40\n",
            "98/98 [==============================] - 74s 710ms/step - loss: 3.0106 - accuracy: 0.3486 - val_loss: 6.4807 - val_accuracy: 0.2678\n",
            "Epoch 10/40\n",
            "98/98 [==============================] - 73s 698ms/step - loss: 2.5539 - accuracy: 0.4071 - val_loss: 1.8520 - val_accuracy: 0.5783\n",
            "Epoch 11/40\n",
            "98/98 [==============================] - 81s 791ms/step - loss: 2.8792 - accuracy: 0.4279 - val_loss: 1.6175 - val_accuracy: 0.6610\n",
            "Epoch 12/40\n",
            "98/98 [==============================] - 74s 708ms/step - loss: 2.7113 - accuracy: 0.4671 - val_loss: 1.4182 - val_accuracy: 0.7066\n",
            "Epoch 13/40\n",
            "98/98 [==============================] - 75s 726ms/step - loss: 2.4550 - accuracy: 0.5133 - val_loss: 1.6582 - val_accuracy: 0.6439\n",
            "Epoch 14/40\n",
            "98/98 [==============================] - 72s 698ms/step - loss: 2.0401 - accuracy: 0.5352 - val_loss: 2.2947 - val_accuracy: 0.5755\n",
            "Epoch 15/40\n",
            "98/98 [==============================] - 74s 711ms/step - loss: 1.8903 - accuracy: 0.5637 - val_loss: 1.5570 - val_accuracy: 0.6923\n",
            "Epoch 16/40\n",
            "98/98 [==============================] - 79s 756ms/step - loss: 1.6173 - accuracy: 0.6148 - val_loss: 1.2029 - val_accuracy: 0.7835\n",
            "Epoch 17/40\n",
            "98/98 [==============================] - 76s 737ms/step - loss: 1.9085 - accuracy: 0.6186 - val_loss: 3.0418 - val_accuracy: 0.5385\n",
            "Epoch 18/40\n",
            "98/98 [==============================] - 76s 731ms/step - loss: 1.5388 - accuracy: 0.6584 - val_loss: 1.4193 - val_accuracy: 0.8348\n",
            "Epoch 19/40\n",
            "98/98 [==============================] - 80s 745ms/step - loss: 2.3000 - accuracy: 0.6600 - val_loss: 2.0354 - val_accuracy: 0.7920\n",
            "Epoch 20/40\n",
            "98/98 [==============================] - 76s 728ms/step - loss: 1.8946 - accuracy: 0.6735 - val_loss: 3.9052 - val_accuracy: 0.5527\n",
            "Epoch 21/40\n",
            "98/98 [==============================] - 76s 731ms/step - loss: 1.5989 - accuracy: 0.7037 - val_loss: 1.3158 - val_accuracy: 0.8547\n",
            "Epoch 22/40\n",
            "98/98 [==============================] - 76s 735ms/step - loss: 1.3701 - accuracy: 0.7140 - val_loss: 1.1342 - val_accuracy: 0.8575\n",
            "Epoch 23/40\n",
            "98/98 [==============================] - 75s 713ms/step - loss: 1.3471 - accuracy: 0.7242 - val_loss: 1.4722 - val_accuracy: 0.8462\n",
            "Epoch 24/40\n",
            "98/98 [==============================] - 76s 728ms/step - loss: 1.1907 - accuracy: 0.7451 - val_loss: 1.7304 - val_accuracy: 0.8234\n",
            "Epoch 25/40\n",
            "98/98 [==============================] - 78s 752ms/step - loss: 1.3121 - accuracy: 0.7432 - val_loss: 2.0621 - val_accuracy: 0.7550\n",
            "Epoch 26/40\n",
            "98/98 [==============================] - 83s 801ms/step - loss: 1.3524 - accuracy: 0.7483 - val_loss: 2.7317 - val_accuracy: 0.7892\n",
            "Epoch 27/40\n",
            "98/98 [==============================] - 76s 727ms/step - loss: 1.0941 - accuracy: 0.7884 - val_loss: 1.5627 - val_accuracy: 0.8348\n",
            "Epoch 28/40\n",
            "98/98 [==============================] - 76s 738ms/step - loss: 1.0705 - accuracy: 0.7849 - val_loss: 1.1871 - val_accuracy: 0.8946\n",
            "Epoch 29/40\n",
            "98/98 [==============================] - 77s 743ms/step - loss: 0.8975 - accuracy: 0.8013 - val_loss: 1.4618 - val_accuracy: 0.8632\n",
            "Epoch 30/40\n",
            "98/98 [==============================] - 76s 736ms/step - loss: 1.0883 - accuracy: 0.8022 - val_loss: 1.3373 - val_accuracy: 0.9088\n",
            "Epoch 31/40\n",
            "98/98 [==============================] - 77s 737ms/step - loss: 1.0209 - accuracy: 0.8100 - val_loss: 1.1881 - val_accuracy: 0.9117\n",
            "Epoch 32/40\n",
            "98/98 [==============================] - 77s 745ms/step - loss: 1.1579 - accuracy: 0.8087 - val_loss: 1.4650 - val_accuracy: 0.9031\n",
            "Epoch 33/40\n",
            "98/98 [==============================] - 77s 736ms/step - loss: 0.9853 - accuracy: 0.8302 - val_loss: 1.2894 - val_accuracy: 0.9060\n",
            "Epoch 34/40\n",
            "98/98 [==============================] - 83s 803ms/step - loss: 1.2112 - accuracy: 0.8215 - val_loss: 2.0918 - val_accuracy: 0.9031\n",
            "Epoch 35/40\n",
            "98/98 [==============================] - 76s 738ms/step - loss: 0.9785 - accuracy: 0.8279 - val_loss: 1.0891 - val_accuracy: 0.9259\n",
            "Epoch 36/40\n",
            "98/98 [==============================] - 77s 740ms/step - loss: 0.9933 - accuracy: 0.8311 - val_loss: 1.4878 - val_accuracy: 0.9174\n",
            "Epoch 37/40\n",
            "98/98 [==============================] - 79s 763ms/step - loss: 1.2052 - accuracy: 0.8363 - val_loss: 1.9767 - val_accuracy: 0.8689\n",
            "Epoch 38/40\n",
            "98/98 [==============================] - 76s 736ms/step - loss: 0.9980 - accuracy: 0.8398 - val_loss: 1.6536 - val_accuracy: 0.8860\n",
            "Epoch 39/40\n",
            "98/98 [==============================] - 77s 742ms/step - loss: 0.7895 - accuracy: 0.8517 - val_loss: 2.4433 - val_accuracy: 0.9259\n",
            "Epoch 40/40\n",
            "98/98 [==============================] - 77s 741ms/step - loss: 0.8991 - accuracy: 0.8607 - val_loss: 1.6590 - val_accuracy: 0.9259\n"
          ]
        },
        {
          "output_type": "execute_result",
          "data": {
            "text/plain": [
              "<keras.src.callbacks.History at 0x7aace41ee800>"
            ]
          },
          "metadata": {},
          "execution_count": 31
        }
      ]
    },
    {
      "cell_type": "code",
      "source": [
        "cnn.save('trained_model.h5')"
      ],
      "metadata": {
        "colab": {
          "base_uri": "https://localhost:8080/"
        },
        "id": "84v6MDfL2suD",
        "outputId": "10ed0602-9f1d-48a4-92f8-30a691b0dc65"
      },
      "execution_count": null,
      "outputs": [
        {
          "output_type": "stream",
          "name": "stderr",
          "text": [
            "/usr/local/lib/python3.10/dist-packages/keras/src/engine/training.py:3103: UserWarning: You are saving your model as an HDF5 file via `model.save()`. This file format is considered legacy. We recommend using instead the native Keras format, e.g. `model.save('my_model.keras')`.\n",
            "  saving_api.save_model(\n"
          ]
        }
      ]
    },
    {
      "cell_type": "code",
      "source": [
        "training_history = cnn.history"
      ],
      "metadata": {
        "id": "8pFxFv793BVl"
      },
      "execution_count": null,
      "outputs": []
    },
    {
      "cell_type": "code",
      "source": [
        "training_history.history"
      ],
      "metadata": {
        "colab": {
          "base_uri": "https://localhost:8080/"
        },
        "id": "DlIQIwv83yYY",
        "outputId": "e98795a0-2050-4cd7-c2d3-de0893af2fe2"
      },
      "execution_count": null,
      "outputs": [
        {
          "output_type": "execute_result",
          "data": {
            "text/plain": [
              "{'loss': [10.4642915725708,\n",
              "  4.897549152374268,\n",
              "  3.7017977237701416,\n",
              "  3.739884853363037,\n",
              "  3.4989089965820312,\n",
              "  3.4665539264678955,\n",
              "  3.0966737270355225,\n",
              "  3.5368833541870117,\n",
              "  3.010610818862915,\n",
              "  2.5538508892059326,\n",
              "  2.8792483806610107,\n",
              "  2.711282968521118,\n",
              "  2.4550259113311768,\n",
              "  2.0400776863098145,\n",
              "  1.89029860496521,\n",
              "  1.6172666549682617,\n",
              "  1.908538579940796,\n",
              "  1.538784384727478,\n",
              "  2.3000025749206543,\n",
              "  1.8945560455322266,\n",
              "  1.5989105701446533,\n",
              "  1.3700799942016602,\n",
              "  1.3470869064331055,\n",
              "  1.1906530857086182,\n",
              "  1.312118649482727,\n",
              "  1.352351427078247,\n",
              "  1.0940606594085693,\n",
              "  1.070489525794983,\n",
              "  0.897507905960083,\n",
              "  1.0882915258407593,\n",
              "  1.020885705947876,\n",
              "  1.157928228378296,\n",
              "  0.9852746725082397,\n",
              "  1.211165189743042,\n",
              "  0.9784979224205017,\n",
              "  0.9932981133460999,\n",
              "  1.2051795721054077,\n",
              "  0.997975766658783,\n",
              "  0.7895012497901917,\n",
              "  0.8991108536720276],\n",
              " 'accuracy': [0.028892455622553825,\n",
              "  0.04783306643366814,\n",
              "  0.07833065837621689,\n",
              "  0.09502407908439636,\n",
              "  0.1515248864889145,\n",
              "  0.21059389412403107,\n",
              "  0.2520064115524292,\n",
              "  0.29117175936698914,\n",
              "  0.34863564372062683,\n",
              "  0.4070625901222229,\n",
              "  0.4279293715953827,\n",
              "  0.46709468960762024,\n",
              "  0.513322651386261,\n",
              "  0.5351524949073792,\n",
              "  0.5637239217758179,\n",
              "  0.6147672533988953,\n",
              "  0.6186195611953735,\n",
              "  0.6584269404411316,\n",
              "  0.6600320935249329,\n",
              "  0.673515260219574,\n",
              "  0.703691840171814,\n",
              "  0.7139647006988525,\n",
              "  0.7242375612258911,\n",
              "  0.7451043128967285,\n",
              "  0.7431781888008118,\n",
              "  0.748314619064331,\n",
              "  0.7884430289268494,\n",
              "  0.7849116921424866,\n",
              "  0.80128413438797,\n",
              "  0.802247166633606,\n",
              "  0.8099518418312073,\n",
              "  0.8086677193641663,\n",
              "  0.830176591873169,\n",
              "  0.8215088248252869,\n",
              "  0.8279293775558472,\n",
              "  0.8311396241188049,\n",
              "  0.8362760543823242,\n",
              "  0.839807391166687,\n",
              "  0.8516854047775269,\n",
              "  0.8606741428375244],\n",
              " 'val_loss': [3.5150554180145264,\n",
              "  3.307861328125,\n",
              "  3.2128307819366455,\n",
              "  3.002089500427246,\n",
              "  3.240286111831665,\n",
              "  2.5589325428009033,\n",
              "  2.554966688156128,\n",
              "  1.893857479095459,\n",
              "  6.480716228485107,\n",
              "  1.852002739906311,\n",
              "  1.6174702644348145,\n",
              "  1.4182217121124268,\n",
              "  1.658209204673767,\n",
              "  2.2946863174438477,\n",
              "  1.5569920539855957,\n",
              "  1.2029343843460083,\n",
              "  3.041809320449829,\n",
              "  1.419268012046814,\n",
              "  2.0354111194610596,\n",
              "  3.905219793319702,\n",
              "  1.3157603740692139,\n",
              "  1.134189486503601,\n",
              "  1.4722226858139038,\n",
              "  1.730400800704956,\n",
              "  2.062053680419922,\n",
              "  2.7317159175872803,\n",
              "  1.5626754760742188,\n",
              "  1.1870633363723755,\n",
              "  1.461767315864563,\n",
              "  1.3372797966003418,\n",
              "  1.1881290674209595,\n",
              "  1.4649866819381714,\n",
              "  1.289375901222229,\n",
              "  2.091832160949707,\n",
              "  1.0890880823135376,\n",
              "  1.4878058433532715,\n",
              "  1.9766792058944702,\n",
              "  1.6535757780075073,\n",
              "  2.4432601928710938,\n",
              "  1.6589546203613281],\n",
              " 'val_accuracy': [0.07122506946325302,\n",
              "  0.11965811997652054,\n",
              "  0.16524216532707214,\n",
              "  0.23931623995304108,\n",
              "  0.21652421355247498,\n",
              "  0.38746437430381775,\n",
              "  0.43304842710494995,\n",
              "  0.5327635407447815,\n",
              "  0.2678062617778778,\n",
              "  0.5783475637435913,\n",
              "  0.6609686613082886,\n",
              "  0.7065526843070984,\n",
              "  0.6438746452331543,\n",
              "  0.5754985809326172,\n",
              "  0.692307710647583,\n",
              "  0.7834757566452026,\n",
              "  0.5384615659713745,\n",
              "  0.8347578644752502,\n",
              "  0.7920227646827698,\n",
              "  0.5527065396308899,\n",
              "  0.8547008633613586,\n",
              "  0.8575498461723328,\n",
              "  0.8461538553237915,\n",
              "  0.8233618140220642,\n",
              "  0.7549857497215271,\n",
              "  0.7891737818717957,\n",
              "  0.8347578644752502,\n",
              "  0.8945869207382202,\n",
              "  0.8632478713989258,\n",
              "  0.9088318943977356,\n",
              "  0.9116809368133545,\n",
              "  0.9031339287757874,\n",
              "  0.9059829115867615,\n",
              "  0.9031339287757874,\n",
              "  0.9259259104728699,\n",
              "  0.9173789024353027,\n",
              "  0.8689458966255188,\n",
              "  0.8860399127006531,\n",
              "  0.9259259104728699,\n",
              "  0.9259259104728699]}"
            ]
          },
          "metadata": {},
          "execution_count": 35
        }
      ]
    },
    {
      "cell_type": "code",
      "source": [
        "import json\n",
        "with open('training_hist.json','w') as f:\n",
        "  json.dump(training_history.history,f)"
      ],
      "metadata": {
        "id": "HOktXS9v33I_"
      },
      "execution_count": null,
      "outputs": []
    },
    {
      "cell_type": "code",
      "source": [
        "print(\"Validation set Accuracy: {} %\".format(training_history.history['val_accuracy'][-1]*100))"
      ],
      "metadata": {
        "colab": {
          "base_uri": "https://localhost:8080/"
        },
        "id": "ZaQJaVk-3-pV",
        "outputId": "f419b776-8707-4288-e53f-129af8d4e4e7"
      },
      "execution_count": null,
      "outputs": [
        {
          "output_type": "stream",
          "name": "stdout",
          "text": [
            "Validation set Accuracy: 92.59259104728699 %\n"
          ]
        }
      ]
    },
    {
      "cell_type": "code",
      "source": [
        "epochs = [i for i in range(1,41)]\n",
        "plt.plot(epochs,training_history.history['accuracy'],color='red')\n",
        "plt.xlabel('No. of Epochs')\n",
        "plt.ylabel('Traiining Accuracy')\n",
        "plt.title('Visualization of Training Accuracy Result')\n",
        "plt.show()\n"
      ],
      "metadata": {
        "colab": {
          "base_uri": "https://localhost:8080/",
          "height": 472
        },
        "id": "jhghGq5i4DV1",
        "outputId": "cc93ab04-37a9-4f09-e9d4-d441d5bd0c3d"
      },
      "execution_count": null,
      "outputs": [
        {
          "output_type": "display_data",
          "data": {
            "text/plain": [
              "<Figure size 640x480 with 1 Axes>"
            ],
            "image/png": "[encoded data removed]"
          },
          "metadata": {}
        }
      ]
    },
    {
      "cell_type": "code",
      "source": [
        "\n",
        "plt.plot(epochs,training_history.history['val_accuracy'],color='blue')\n",
        "plt.xlabel('No. of Epochs')\n",
        "plt.ylabel('Validation Accuracy')\n",
        "plt.title('Visualization of Validation Accuracy Result')\n",
        "plt.show()\n"
      ],
      "metadata": {
        "colab": {
          "base_uri": "https://localhost:8080/",
          "height": 472
        },
        "id": "z4u60yml4K8P",
        "outputId": "feae7df4-47de-4a76-a50d-ee4863ddc2bc"
      },
      "execution_count": null,
      "outputs": [
        {
          "output_type": "display_data",
          "data": {
            "text/plain": [
              "<Figure size 640x480 with 1 Axes>"
            ],
            "image/png": "[encoded data removed]"
          },
          "metadata": {}
        }
      ]
    },
    {
      "cell_type": "markdown",
      "source": [
        "--TEST SET EVALUATION\n"
      ],
      "metadata": {
        "id": "yt9j19KJ4UPv"
      }
    },
    {
      "cell_type": "code",
      "source": [
        "test_set = tf.keras.utils.image_dataset_from_directory(\n",
        "  '/content/drive/MyDrive/test',\n",
        "    labels=\"inferred\",\n",
        "    label_mode=\"categorical\",\n",
        "    class_names=None,\n",
        "    color_mode=\"rgb\",\n",
        "    batch_size=32,\n",
        "    image_size=(64, 64),\n",
        "    shuffle=True,\n",
        "    seed=None,\n",
        "    validation_split=None,\n",
        "    subset=None,\n",
        "    interpolation=\"bilinear\",\n",
        "    follow_links=False,\n",
        "    crop_to_aspect_ratio=False\n",
        ")"
      ],
      "metadata": {
        "colab": {
          "base_uri": "https://localhost:8080/"
        },
        "id": "Y2Ood3eu4ZeR",
        "outputId": "e405c2c7-a574-4c04-f959-07511cca1684"
      },
      "execution_count": null,
      "outputs": [
        {
          "output_type": "stream",
          "name": "stdout",
          "text": [
            "Found 359 files belonging to 36 classes.\n"
          ]
        }
      ]
    },
    {
      "cell_type": "code",
      "source": [
        "test_loss,test_acc = cnn.evaluate(test_set)\n",
        "print('Test accuracy:', test_acc)"
      ],
      "metadata": {
        "colab": {
          "base_uri": "https://localhost:8080/"
        },
        "id": "2-JL0pwE4s-M",
        "outputId": "c016024f-0d82-48de-8d4d-7e7597b937b2"
      },
      "execution_count": null,
      "outputs": [
        {
          "output_type": "stream",
          "name": "stdout",
          "text": [
            "12/12 [==============================] - 110s 878ms/step - loss: 1.6272 - accuracy: 0.9248\n",
            "Test accuracy: 0.9247910976409912\n"
          ]
        }
      ]
    }
  ]
}